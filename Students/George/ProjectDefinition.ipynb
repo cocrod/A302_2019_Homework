{
 "cells": [
  {
   "cell_type": "code",
   "execution_count": null,
   "metadata": {
    "collapsed": true
   },
   "outputs": [],
   "source": [
    "\"\"\"\n",
    "\n",
    "My final project will utilize SDSS data in the form of fits\n",
    "images. Using the ugriz photometric files from SDSS, an \n",
    "interactive widget will be created that will display this \n",
    "image data. The widget will allow the user to vary the\n",
    "presence of each of the 5 different wavelength bands \n",
    "(ugriz) in the image. Doing this will demonstrate the\n",
    "different features which are able to be seen by observing \n",
    "objects at various wavelengths of light. I will have a\n",
    "number of fits image files pre-loaded for access in this\n",
    "notebook. These will likely include Messier objects and\n",
    "potentially other types of objects. \n",
    "\n",
    "\n",
    "\"\"\""
   ]
  }
 ],
 "metadata": {
  "kernelspec": {
   "display_name": "Python 3",
   "language": "python",
   "name": "python3"
  },
  "language_info": {
   "codemirror_mode": {
    "name": "ipython",
    "version": 3
   },
   "file_extension": ".py",
   "mimetype": "text/x-python",
   "name": "python",
   "nbconvert_exporter": "python",
   "pygments_lexer": "ipython3",
   "version": "3.6.4"
  }
 },
 "nbformat": 4,
 "nbformat_minor": 2
}
