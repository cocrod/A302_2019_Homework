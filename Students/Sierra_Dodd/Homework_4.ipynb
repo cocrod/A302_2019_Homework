{
 "cells": [
  {
   "cell_type": "markdown",
   "metadata": {},
   "source": [
    "## Homework 4: Project definition\n",
    "\n",
    "*** Due: Monday, Feb 13th, 2019. ***\n",
    "\n",
    "The final project should be a data analysis or visualization written in a Jupyter notebook. It can use real or simulated data, apply different modeling techniques, include visualization of data (in as many dimensions as you are comfortable with). Overall the project should,\n",
    "- represent about 10-15 hours of work\n",
    "- include the analysis of a dataset or the visualization of a dataset\n",
    "- preferably be related to some research you are doing\n",
    "\n",
    "\n",
    "For this homework, write a **brief** description of the work you plan to do\n",
    "- what is the science objective (i.e. why are you doing this project)\n",
    "- what is the goal of the project (e.g. to visualize ZTF light curves)\n",
    "- what will the program do (e.g. read in a series of ZTF light curves and plot them as an interactive plot; fit a Lomb-Scargle periodogram and plot the sinusoid with the best fit period on top of the data; run this as a jupyter widget)\n",
    "- what are your data sets and deliverables \n",
    "\n",
    "Issue a pull request on the homework repository with the description in a Jupyter notebook (you will use this notebook for the project)\n"
   ]
  },
  {
   "cell_type": "markdown",
   "metadata": {},
   "source": [
    "#### Science Objective:\n",
    "Over the past year, I have studied changing-look quasars with Professor Scott Anderson. Changing look quasars (CLQ) are active galactic nuclei that appear to start and stop accreting in an altogether short and unprecedented amount of time (months or years). These short timescales motivated researchers, including ourselves, to reconsider our understanding of accretion phenomena in quasars, so we might come to better understand what is driving the unexpectedly rapid changes observed in these CLQs. Our research goal is to create a larger, less biased, and more comprehensive catalogue of CLQs. With this larger list, we aim to help determine the astrophysical mechanisms that drive the rapid changes we observe in CLQs."
   ]
  },
  {
   "cell_type": "markdown",
   "metadata": {},
   "source": [
    "#### Goal of Project:\n",
    "One method we have used to search for CLQs is a program call the Visual Inspection Protocol (VIP for short), which was originally written by then-grad student John Ruan. The program is written in Python and displays light curves and spectra for CLQ candidates. This program is outdated and minimal, leaving room for various improvements to be made in both the data processing and visualization. "
   ]
  },
  {
   "cell_type": "markdown",
   "metadata": {},
   "source": [
    "#### Specific Goals of Program:\n",
    "Obtain updated light curves from Palomar, write a script that matches SDSS targets to Palomar observations (previously, the program just found the closest match, leading to many wrong LCs), display the LC and/or the spectra interactively as a widget. If this is accomplished in less than 10-15 hours time, various other parts of the program can be made interactive, such as the method of toggling between CLQ candidates. "
   ]
  },
  {
   "cell_type": "markdown",
   "metadata": {},
   "source": [
    "#### Data Sets and Deliverables:\n",
    "Light curves will be obtained from Palomar, and multiple epochs of spectra will be retrieved from the Sloan Digital Sky Survey. The end result will be a simpler, more intuitive, and more interactive visualization program that, instead of instilling dread into undergrads beginning research, will (hopefully) inspire excitement. "
   ]
  }
 ],
 "metadata": {
  "kernelspec": {
   "display_name": "Python 3",
   "language": "python",
   "name": "python3"
  },
  "language_info": {
   "codemirror_mode": {
    "name": "ipython",
    "version": 3
   },
   "file_extension": ".py",
   "mimetype": "text/x-python",
   "name": "python",
   "nbconvert_exporter": "python",
   "pygments_lexer": "ipython3",
   "version": "3.6.4"
  }
 },
 "nbformat": 4,
 "nbformat_minor": 2
}
