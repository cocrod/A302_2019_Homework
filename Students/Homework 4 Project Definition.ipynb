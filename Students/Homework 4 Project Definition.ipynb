{
 "cells": [
  {
   "cell_type": "markdown",
   "metadata": {},
   "source": [
    "The science objective of my project is to test for the stability of reference stars which would be used for photometry later. The goal is to create visualizations of the reference stars possible variability and if they do show signs of variability find the period of the star. The program will read in magnitude and date data for 3 reference stars and plot the differences bewteen their magnitudes as a function of time. Then it will run a Lomb-Scargle periodogram to find the period of any variable stars and use that period to create a phase plot. "
   ]
  },
  {
   "cell_type": "code",
   "execution_count": null,
   "metadata": {
    "collapsed": true
   },
   "outputs": [],
   "source": []
  }
 ],
 "metadata": {
  "kernelspec": {
   "display_name": "Python 2",
   "language": "python",
   "name": "python2"
  },
  "language_info": {
   "codemirror_mode": {
    "name": "ipython",
    "version": 2
   },
   "file_extension": ".py",
   "mimetype": "text/x-python",
   "name": "python",
   "nbconvert_exporter": "python",
   "pygments_lexer": "ipython2",
   "version": "2.7.14"
  }
 },
 "nbformat": 4,
 "nbformat_minor": 2
}
