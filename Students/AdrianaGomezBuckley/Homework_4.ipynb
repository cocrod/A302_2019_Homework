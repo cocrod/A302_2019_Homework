{
 "cells": [
  {
   "cell_type": "markdown",
   "metadata": {},
   "source": [
    "# Project Proposal"
   ]
  },
  {
   "cell_type": "markdown",
   "metadata": {},
   "source": [
    "### Scientific Objective"
   ]
  },
  {
   "cell_type": "markdown",
   "metadata": {},
   "source": [
    "As I'm not currently doing research at the moment and the position I have lined up won't start until the spring, I'm returning to a previous research project on the intergalactic medium (IGM). The project was under Dr. Matt McQuinn and focused on comparing the Lyman-alpha absorption in the spectra of a handful of quasars to a large sample of simulated quasar spectra. For this project, I would like to focus on visualizing the data from real quasars. The code written previously was done with only very basic knowledge of python and for a relatively small sample size of quasars. My aim is to add spectroscopic data from more quasars (from VLT) and streamline the plotting process to display multiple plots at once, and perhaps expand the ways in which the data is visualized."
   ]
  },
  {
   "cell_type": "markdown",
   "metadata": {},
   "source": [
    "### Project Goals"
   ]
  },
  {
   "cell_type": "markdown",
   "metadata": {},
   "source": [
    "This project will take spectroscopic data of many quasars from VLT and create wavelength vs. flux plots of their spectra. These plots will be interactively displayed, so that the user can flip through multiple plots, probably displayed 2-4 at a time. Histograms for the flux of each quasar will also be created and displayed in this format. These plots will allow for a visual inspection of the data, such that the user can note and throw out any data that looks too noisy, has errors, etc. The quasars will be compiled into a probability distribution function to collectively show the range of absorption in the data set. If this takes less than 10 hours, the project could be extended by visualizing the quasars by redshift. Some ideas for this would be to create a histogram of the redshifts of the quasars, or perhaps to try and compare/correlate redshift and absorption in some way."
   ]
  },
  {
   "cell_type": "markdown",
   "metadata": {},
   "source": [
    "### Data Sets"
   ]
  },
  {
   "cell_type": "markdown",
   "metadata": {},
   "source": [
    "In addition to the .txt files I have for quasar data from the previous project, I will be adding 2 other .txt file containing many more quasar spectra from a fellow student working in this area of research. The first file contains the quasar data for wavelength, flux, flux error, spectroscopic resolution (in Angstroms), and the wavelength difference of pixels in log space. The second contains the redshifts for each quasar."
   ]
  },
  {
   "cell_type": "code",
   "execution_count": null,
   "metadata": {
    "collapsed": true
   },
   "outputs": [],
   "source": []
  }
 ],
 "metadata": {
  "kernelspec": {
   "display_name": "Python 3",
   "language": "python",
   "name": "python3"
  },
  "language_info": {
   "codemirror_mode": {
    "name": "ipython",
    "version": 3
   },
   "file_extension": ".py",
   "mimetype": "text/x-python",
   "name": "python",
   "nbconvert_exporter": "python",
   "pygments_lexer": "ipython3",
   "version": "3.6.2"
  }
 },
 "nbformat": 4,
 "nbformat_minor": 2
}
