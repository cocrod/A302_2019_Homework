{
 "cells": [
  {
   "cell_type": "markdown",
   "metadata": {},
   "source": [
    "SELECT top 5\n",
    "     s.bestObjID , p.ra , p.dec , p.z\n",
    "\n",
    "FROM\n",
    "     photoObj p\n",
    "     JOIN specObj s ON s.bestObjID = p.objID\n",
    "     JOIN dbo.fGetNearbyObjEq(180,60,120) n ON n.objID = p.objID\n",
    "\n",
    "WHERE\n",
    "     s.class = 'qso'\n",
    "\n",
    "ORDER BY\n",
    "     p.z desc"
   ]
  },
  {
   "cell_type": "code",
   "execution_count": null,
   "metadata": {},
   "outputs": [],
   "source": []
  }
 ],
 "metadata": {
  "kernelspec": {
   "display_name": "Python 3",
   "language": "python",
   "name": "python3"
  },
  "language_info": {
   "codemirror_mode": {
    "name": "ipython",
    "version": 3
   },
   "file_extension": ".py",
   "mimetype": "text/x-python",
   "name": "python",
   "nbconvert_exporter": "python",
   "pygments_lexer": "ipython3",
   "version": "3.7.2"
  }
 },
 "nbformat": 4,
 "nbformat_minor": 2
}
