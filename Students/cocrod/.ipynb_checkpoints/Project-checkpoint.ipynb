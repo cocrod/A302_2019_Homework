{
 "cells": [
  {
   "cell_type": "markdown",
   "metadata": {},
   "source": [
    "-BRIEF DESCRIPTION OF THE WORK PLANNED-\n",
    "\n",
    "\n",
    "What is the science objective (i.e. why are you doing this project):\n",
    "The science objective is to understand the differences in various cosmic ray models on galactic evolution.\n",
    "\n",
    "What is the goal of the project (e.g. to visualize ZTF light curves):\n",
    "The goal of the project is to create visualizations of the data across time.\n",
    "\n",
    "What will the program do (e.g. read in a series of ZTF light curves and plot them as an interactive plot; fit a Lomb-Scargle periodogram and plot the sinusoid with the best fit period on top of the data; run this as a jupyter widget):\n",
    "The program will read in data and create plots\n",
    "\n",
    "What are your data sets and deliverables:\n",
    "The data sets are information of different galactic seed models evolved through time."
   ]
  },
  {
   "cell_type": "code",
   "execution_count": null,
   "metadata": {},
   "outputs": [],
   "source": []
  },
  {
   "cell_type": "code",
   "execution_count": null,
   "metadata": {},
   "outputs": [],
   "source": []
  },
  {
   "cell_type": "code",
   "execution_count": null,
   "metadata": {},
   "outputs": [],
   "source": []
  },
  {
   "cell_type": "markdown",
   "metadata": {},
   "source": [
    "Here is my project using some tools from class to assist with my research.  The main tools I used were pandas to handle simulation data and the widgets we learned about.  I wanted to create something that allows us to look at magnetic field strength over time, but also something that lets us look at specific times in the history of the simulation.  With these tools, I was able to create plots that I can control for time.  \n",
    "\n",
    "Some lines are commented out for different reasons: to prevent accidental overwriting of the provided data sets,and because some tools are not readily avaialbe everywhere.  As such, the portion of the notebook that actually creates the data sets will not work.  However, I have provided two sample data sets so that the plotting portion actually works on any machine.  Using this notebook, one can look at specific points in the history of the simulation for more detailed analysis if desired.  Now that I have figured this out, it can be applied to many other properties in the simulation."
   ]
  },
  {
   "cell_type": "code",
   "execution_count": null,
   "metadata": {},
   "outputs": [],
   "source": []
  },
  {
   "cell_type": "code",
   "execution_count": 3,
   "metadata": {},
   "outputs": [
    {
     "name": "stderr",
     "output_type": "stream",
     "text": [
      "/miniconda3/lib/python3.7/site-packages/mpl_toolkits/axes_grid/__init__.py:12: MatplotlibDeprecationWarning: \n",
      "The mpl_toolkits.axes_grid module was deprecated in Matplotlib 2.1 and will be removed two minor releases later. Use mpl_toolkits.axes_grid1 and mpl_toolkits.axisartist, which provide the same functionality instead.\n",
      "  obj_type='module')\n"
     ]
    }
   ],
   "source": [
    "# import yt\n",
    "import numpy as np\n",
    "# from yt.units import kpc\n",
    "import matplotlib.pyplot as plt\n",
    "from mpl_toolkits.axes_grid1 import AxesGrid\n",
    "from mpl_toolkits.axes_grid.anchored_artists import AnchoredText\n",
    "from ipywidgets import interact\n",
    "import pandas as pd"
   ]
  },
  {
   "cell_type": "code",
   "execution_count": null,
   "metadata": {},
   "outputs": [],
   "source": [
    "# outfile = open(\"avgMFS_ad_steps_by200s.dat\", \"w\")   ### this is the outfile that we will be saving our averages to be plotted to\n",
    "\n",
    "# ###this puts headings for each column of information so we don't forget what is what\n",
    "# outfile.write( \"#time_step time(Gyrs) avg_mfs(unweighted) avg_mfs(density_weighted) avg_mfs_cgm avg_mfs_rho_cgm avg_mfs_disk avg_mfs_rho_disk \\n\")"
   ]
  },
  {
   "cell_type": "code",
   "execution_count": null,
   "metadata": {},
   "outputs": [],
   "source": [
    "###the function that actually creates the MFS averages and stores them in the outfile\n",
    "for step in range( 0000,2602 ):\n",
    "  ds = yt.load('/scratch/eot/butsky/g160_torB_ad/DD%04d/DD%04d'%(step,step))\n",
    "  v,cen = ds.h.find_max( ('gas','density') )\n",
    "  sphere = ds.sphere( cen,(150.0,'kpc') )\n",
    "\n",
    "  ##takes the piece of data that satisfies some criteria to filter data and cuts it out, this one has us look at the cgm (galaxy w/out disk)\n",
    "  cgm = sphere.cut_region([\"(obj[('index', 'cylindrical_radius')].in_units('kpc') > 25) & (abs(obj[('index', 'cylindrical_z')].in_units('kpc')) > 5)\"])\n",
    "\n",
    "  ##does same as above but looks specifically at the disk\n",
    "  disk = sphere.cut_region([\"(obj[('index', 'cylindrical_radius')].in_units('kpc') < 25) & (abs(obj[('index', 'cylindrical_z')].in_units('kpc')) < 5)\"])\n",
    "\n",
    "  avg_mfs = sphere.quantities.weighted_average_quantity( \"magnetic_field_strength\" , \"ones\")\n",
    "  avg_mfs_rho = sphere.quantities.weighted_average_quantity( \"magnetic_field_strength\" , \"density\")\n",
    "\n",
    "  avg_mfs_cgm = cgm.quantities.weighted_average_quantity( \"magnetic_field_strength\" , \"ones\")\n",
    "  avg_mfs_rho_cgm = cgm.quantities.weighted_average_quantity( \"magnetic_field_strength\" , \"density\")\n",
    "\n",
    "  avg_mfs_disk = disk.quantities.weighted_average_quantity( \"magnetic_field_strength\" , \"ones\")\n",
    "  avg_mfs_rho_disk = disk.quantities.weighted_average_quantity( \"magnetic_field_strength\" , \"density\")\n",
    "\n",
    "  ###writes the averages to our outfile\n",
    "#   outfile.write(\"%e %04f %e %e %e %e %e %e \\n\" %( step , ds.current_time.in_units('Gyr') , avg_mfs,avg_mfs_rho , avg_mfs_cgm,avg_mfs_rho_cgm , avg_mfs_disk,avg_mfs_rho_disk ))\n",
    "#   outfile.flush()###forces it to write right then and there\n",
    "\n",
    "### to read in from the file i just created , numpy.loadtxt() documentation\n",
    "#time, avg_mfs, avg_mfs_rho = np.loadtxt( \"test_outfile.dat\" , unpack=True , skiprows=1 )\n",
    "###this reads in the data in the rows, therefore easier to plot"
   ]
  },
  {
   "cell_type": "code",
   "execution_count": null,
   "metadata": {},
   "outputs": [],
   "source": [
    "# outfile = open(\"avgMFS_s4_steps_by200s.dat\", \"w\")   ### this is the outfile that we will be saving our averages to be plotted to\n",
    "\n",
    "# ###this puts headings for each column of information so we don't forget what is what\n",
    "# outfile.write( \"#time_step time(Gyrs) avg_mfs(unweighted) avg_mfs(density_weighted) avg_mfs_cgm avg_mfs_rho_cgm avg_mfs_disk avg_mfs_rho_disk \\n\")"
   ]
  },
  {
   "cell_type": "code",
   "execution_count": null,
   "metadata": {},
   "outputs": [],
   "source": [
    "###the function that actually creates the MFS averages and stores them in the outfile\n",
    "for step in range( 0000,2602 ):\n",
    "  ds = yt.load('/scratch/eot/butsky/g160_torB_s4/DD%04d/DD%04d'%(step,step))\n",
    "  v,cen = ds.h.find_max( ('gas','density') )\n",
    "  sphere = ds.sphere( cen,(150.0,'kpc') )\n",
    "\n",
    "  ##takes the piece of data that satisfies some criteria to filter data and cuts it out, this one has us look at the cgm (galaxy w/out disk)\n",
    "  cgm = sphere.cut_region([\"(obj[('index', 'cylindrical_radius')].in_units('kpc') > 25) & (abs(obj[('index', 'cylindrical_z')].in_units('kpc')) > 5)\"])\n",
    "\n",
    "  ##does same as above but looks specifically at the disk\n",
    "  disk = sphere.cut_region([\"(obj[('index', 'cylindrical_radius')].in_units('kpc') < 25) & (abs(obj[('index', 'cylindrical_z')].in_units('kpc')) < 5)\"])\n",
    "\n",
    "  avg_mfs = sphere.quantities.weighted_average_quantity( \"magnetic_field_strength\" , \"ones\")\n",
    "  avg_mfs_rho = sphere.quantities.weighted_average_quantity( \"magnetic_field_strength\" , \"density\")\n",
    "\n",
    "  avg_mfs_cgm = cgm.quantities.weighted_average_quantity( \"magnetic_field_strength\" , \"ones\")\n",
    "  avg_mfs_rho_cgm = cgm.quantities.weighted_average_quantity( \"magnetic_field_strength\" , \"density\")\n",
    "\n",
    "  avg_mfs_disk = disk.quantities.weighted_average_quantity( \"magnetic_field_strength\" , \"ones\")\n",
    "  avg_mfs_rho_disk = disk.quantities.weighted_average_quantity( \"magnetic_field_strength\" , \"density\")\n",
    "\n",
    "  ###writes the averages to our outfile\n",
    "#   outfile.write(\"%e %04f %e %e %e %e %e %e \\n\" %( step , ds.current_time.in_units('Gyr') , avg_mfs,avg_mfs_rho , avg_mfs_cgm,avg_mfs_rho_cgm , avg_mfs_disk,avg_mfs_rho_disk ))\n",
    "#   outfile.flush()###forces it to write right then and there\n",
    "\n",
    "### to read in from the file i just created , numpy.loadtxt() documentation\n",
    "#time, avg_mfs, avg_mfs_rho = np.loadtxt( \"test_outfile.dat\" , unpack=True , skiprows=1 )\n",
    "###this reads in the data in the rows, therefore easier to plot"
   ]
  },
  {
   "cell_type": "code",
   "execution_count": 5,
   "metadata": {},
   "outputs": [],
   "source": [
    "ad_df = pd.read_csv(\"avgMFS_ad_steps_by200s.dat\" , delimiter=' ' )\n",
    "s4_df = pd.read_csv(\"avgMFS_s4_steps_by200s.dat\" , delimiter=' ' )"
   ]
  },
  {
   "cell_type": "code",
   "execution_count": null,
   "metadata": {},
   "outputs": [],
   "source": [
    "ad_df['time(Gyrs)'][ad_df['time(Gyrs)']>=begin][ad_df['time(Gyrs)']<=end]"
   ]
  },
  {
   "cell_type": "code",
   "execution_count": null,
   "metadata": {},
   "outputs": [],
   "source": []
  },
  {
   "cell_type": "code",
   "execution_count": 10,
   "metadata": {},
   "outputs": [],
   "source": [
    "###THIS SCRIPT IS FOR PLOTTING THE TIME SERIES STUFF FROM THE TIMESERIESSCRIPT FILE\n",
    "\n",
    "def time_series_plotting( begin=0 , end=14 ):\n",
    "    \n",
    "    plt.clf()\n",
    "\n",
    "    #plt.plot( time,avg_mfs , label=\"galaxy\" )\n",
    "    plt.plot( ad_df['time(Gyrs)'][ad_df['time(Gyrs)']>=begin][ad_df['time(Gyrs)']<=end],ad_df['avg_mfs_cgm'], label=\"ad_cgm\" )\n",
    "    plt.plot( ad_df['time(Gyrs)'][ad_df['time(Gyrs)']>=begin][ad_df['time(Gyrs)']<=end],ad_df['avg_mfs_disk'], label=\"ad_disk\" )\n",
    "    plt.plot( s4_df['time(Gyrs)'][s4_df['time(Gyrs)']>=begin][s4_df['time(Gyrs)']<=end],s4_df['avg_mfs_cgm'], label=\"s4_cgm\" )\n",
    "    plt.plot( s4_df['time(Gyrs)'][s4_df['time(Gyrs)']>=begin][s4_df['time(Gyrs)']<=end],s4_df['avg_mfs_disk'], label=\"s4_disk\" )\n",
    "    plt.yscale('log')\n",
    "    plt.xlabel(\"Time (Gyrs)\")\n",
    "    plt.ylabel(\"Average Magnetic Field Strength\")\n",
    "    plt.title(\"Mag Fld Changes: Anisotropic Diffusion vs Streaming Cosmic Ray Transport\")\n",
    "    plt.legend()\n",
    "    # plt.savefig('time_vs_avgMFS_adVs4_log')\n",
    "\n",
    "    plt.clf()\n",
    "\n",
    "    #plt.plot( time,avg_mfs_rho , label=\"galaxy\" )\n",
    "    plt.plot( ad_df['time(Gyrs)'][ad_df['time(Gyrs)']>=begin][ad_df['time(Gyrs)']<=end],ad_df['avg_mfs_rho_cgm'], label=\"ad_cgm\" )\n",
    "    plt.plot( ad_df['time(Gyrs)'][ad_df['time(Gyrs)']>=begin][ad_df['time(Gyrs)']<=end],ad_df['avg_mfs_rho_disk'], label=\"ad_disk\" )\n",
    "    plt.plot( s4_df['time(Gyrs)'][s4_df['time(Gyrs)']>=begin][s4_df['time(Gyrs)']<=end],s4_df['avg_mfs_rho_cgm'], label=\"s4_cgm\" )\n",
    "    plt.plot( s4_df['time(Gyrs)'][s4_df['time(Gyrs)']>=begin][s4_df['time(Gyrs)']<=end],s4_df['avg_mfs_rho_disk'], label=\"s4_disk\" )\n",
    "    plt.yscale('log')\n",
    "    plt.xlabel(\"Time (Gyrs)\")\n",
    "    plt.ylabel(\"Average Magnetic Field Strength\")\n",
    "    plt.title(\"Mag Fld Changes: Anisotropic Diffusion vs Streaming Ray Transport (density weighted)\")\n",
    "    plt.legend()\n",
    "    # plt.savefig('time_vs_avgMFS_rho_adVs4_log')\n",
    "\n",
    "    plt.clf()\n",
    "\n",
    "    plt.subplot(2,2,1)\n",
    "    plt.plot( ad_df['time(Gyrs)'][ad_df['time(Gyrs)']>=begin][ad_df['time(Gyrs)']<=end],ad_df['avg_mfs_disk'], label=\"ad_disk\" )\n",
    "    plt.plot( s4_df['time(Gyrs)'][s4_df['time(Gyrs)']>=begin][s4_df['time(Gyrs)']<=end],s4_df['avg_mfs_disk'], label=\"s4_disk\" )\n",
    "    plt.yscale('log')\n",
    "    plt.legend()\n",
    "    plt.subplot(2,2,2)\n",
    "    plt.plot( ad_df['time(Gyrs)'][ad_df['time(Gyrs)']>=begin][ad_df['time(Gyrs)']<=end],ad_df['avg_mfs_rho_disk'], label=\"ad_disk\" )\n",
    "    plt.plot( s4_df['time(Gyrs)'][s4_df['time(Gyrs)']>=begin][s4_df['time(Gyrs)']<=end],s4_df['avg_mfs_rho_disk'], label=\"s4_disk\" )\n",
    "    plt.yscale('log')\n",
    "    plt.legend()\n",
    "    plt.subplot(2,2,3)\n",
    "    plt.plot( ad_df['time(Gyrs)'][ad_df['time(Gyrs)']>=begin][ad_df['time(Gyrs)']<=end],ad_df['avg_mfs_rho_disk'], label=\"ad_disk\" )\n",
    "    plt.plot( s4_df['time(Gyrs)'][s4_df['time(Gyrs)']>=begin][s4_df['time(Gyrs)']<=end],s4_df['avg_mfs_rho_disk'], label=\"s4_disk\" )\n",
    "    plt.yscale('log')\n",
    "    plt.legend()\n",
    "    plt.xlabel(\"Time (Gyrs)\")\n",
    "    plt.ylabel(\"Average Magnetic Field Strength\")\n",
    "    plt.suptitle(\"Disk Mag Fld Changes: Anisotropic Diffusion vs Streaming Cosmic Ray Transport\")\n",
    "    # plt.savefig('time_vs_avgMFS_adVs4_disk_log')\n",
    "\n",
    "    plt.clf()\n",
    "\n",
    "    plt.subplot(2,2,1)\n",
    "    plt.plot( ad_df['time(Gyrs)'][ad_df['time(Gyrs)']>=begin][ad_df['time(Gyrs)']<=end],ad_df['avg_mfs_cgm'], label=\"ad_cgm\" )\n",
    "    plt.plot( s4_df['time(Gyrs)'][s4_df['time(Gyrs)']>=begin][s4_df['time(Gyrs)']<=end],s4_df['avg_mfs_cgm'], label=\"s4_cgm\" )\n",
    "    plt.yscale('log')\n",
    "    plt.legend()\n",
    "    plt.subplot(2,2,2)\n",
    "    plt.plot( ad_df['time(Gyrs)'][ad_df['time(Gyrs)']>=begin][ad_df['time(Gyrs)']<=end],ad_df['avg_mfs_rho_cgm'], label=\"ad_cgm\" )\n",
    "    plt.plot( s4_df['time(Gyrs)'][s4_df['time(Gyrs)']>=begin][s4_df['time(Gyrs)']<=end],s4_df['avg_mfs_rho_cgm'], label=\"s4_cgm\" )\n",
    "    plt.yscale('log')\n",
    "    plt.legend()\n",
    "    plt.subplot(2,2,3)\n",
    "    plt.plot( ad_df['time(Gyrs)'][ad_df['time(Gyrs)']>=begin][ad_df['time(Gyrs)']<=end],ad_df['avg_mfs_rho_cgm'], label=\"ad_cgm\" )\n",
    "    plt.plot( s4_df['time(Gyrs)'][s4_df['time(Gyrs)']>=begin][s4_df['time(Gyrs)']<=end],s4_df['avg_mfs_rho_cgm'], label=\"s4_cgm\" )\n",
    "    plt.yscale('log')\n",
    "    plt.legend()\n",
    "    plt.xlabel(\"Time (Gyrs)\")\n",
    "    plt.ylabel(\"Average Magnetic Field Strength\")\n",
    "    plt.suptitle(\"CGM Mag Fld Changes: Anisotropic Diffusion vs Streaming Ray Transport (density weighted)\")\n",
    "    # plt.savefig('time_vs_avgMFS_rho_adVs4_cgm_log')\n",
    "\n",
    "    plt.clf()\n",
    "\n",
    "\n"
   ]
  },
  {
   "cell_type": "code",
   "execution_count": 11,
   "metadata": {},
   "outputs": [
    {
     "data": {
      "application/vnd.jupyter.widget-view+json": {
       "model_id": "b6741d75a53845dca83a254d291f22a2",
       "version_major": 2,
       "version_minor": 0
      },
      "text/plain": [
       "interactive(children=(FloatSlider(value=0.0, description='begin', max=14.0, step=0.01), FloatSlider(value=14.0…"
      ]
     },
     "metadata": {},
     "output_type": "display_data"
    },
    {
     "data": {
      "text/plain": [
       "<function __main__.time_series_plotting(begin=0, end=14)>"
      ]
     },
     "execution_count": 11,
     "metadata": {},
     "output_type": "execute_result"
    }
   ],
   "source": [
    "interact( time_series_plotting , begin=(0,14,0.01) , end=(0,14,0.01) )"
   ]
  },
  {
   "cell_type": "code",
   "execution_count": null,
   "metadata": {},
   "outputs": [],
   "source": []
  },
  {
   "cell_type": "code",
   "execution_count": null,
   "metadata": {},
   "outputs": [],
   "source": []
  },
  {
   "cell_type": "code",
   "execution_count": null,
   "metadata": {},
   "outputs": [],
   "source": []
  },
  {
   "cell_type": "code",
   "execution_count": null,
   "metadata": {},
   "outputs": [],
   "source": []
  },
  {
   "cell_type": "code",
   "execution_count": null,
   "metadata": {},
   "outputs": [],
   "source": []
  },
  {
   "cell_type": "code",
   "execution_count": null,
   "metadata": {},
   "outputs": [],
   "source": []
  },
  {
   "cell_type": "code",
   "execution_count": null,
   "metadata": {},
   "outputs": [],
   "source": []
  },
  {
   "cell_type": "code",
   "execution_count": null,
   "metadata": {},
   "outputs": [],
   "source": []
  },
  {
   "cell_type": "code",
   "execution_count": null,
   "metadata": {},
   "outputs": [],
   "source": []
  },
  {
   "cell_type": "code",
   "execution_count": null,
   "metadata": {},
   "outputs": [],
   "source": []
  },
  {
   "cell_type": "code",
   "execution_count": null,
   "metadata": {},
   "outputs": [],
   "source": []
  },
  {
   "cell_type": "code",
   "execution_count": null,
   "metadata": {},
   "outputs": [],
   "source": []
  },
  {
   "cell_type": "code",
   "execution_count": null,
   "metadata": {},
   "outputs": [],
   "source": []
  },
  {
   "cell_type": "code",
   "execution_count": null,
   "metadata": {},
   "outputs": [],
   "source": []
  },
  {
   "cell_type": "code",
   "execution_count": null,
   "metadata": {},
   "outputs": [],
   "source": []
  },
  {
   "cell_type": "code",
   "execution_count": null,
   "metadata": {},
   "outputs": [],
   "source": []
  },
  {
   "cell_type": "code",
   "execution_count": null,
   "metadata": {},
   "outputs": [],
   "source": []
  },
  {
   "cell_type": "code",
   "execution_count": null,
   "metadata": {},
   "outputs": [],
   "source": []
  },
  {
   "cell_type": "code",
   "execution_count": null,
   "metadata": {},
   "outputs": [],
   "source": []
  },
  {
   "cell_type": "code",
   "execution_count": null,
   "metadata": {},
   "outputs": [],
   "source": []
  }
 ],
 "metadata": {
  "kernelspec": {
   "display_name": "Python 3",
   "language": "python",
   "name": "python3"
  },
  "language_info": {
   "codemirror_mode": {
    "name": "ipython",
    "version": 3
   },
   "file_extension": ".py",
   "mimetype": "text/x-python",
   "name": "python",
   "nbconvert_exporter": "python",
   "pygments_lexer": "ipython3",
   "version": "3.7.1"
  }
 },
 "nbformat": 4,
 "nbformat_minor": 2
}
